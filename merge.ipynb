{
 "cells": [
  {
   "cell_type": "code",
   "execution_count": 15,
   "metadata": {},
   "outputs": [],
   "source": [
    "#!/usr/bin/python\n",
    "# -*- coding: UTF-8 -*-\n",
    "import cv2\n",
    "import numpy as np"
   ]
  },
  {
   "cell_type": "code",
   "execution_count": 16,
   "metadata": {},
   "outputs": [],
   "source": [
    "color_dict = {\"black\": [0, 0, 0], \n",
    "              \"red\": [0, 0, 255]}"
   ]
  },
  {
   "cell_type": "code",
   "execution_count": 17,
   "metadata": {},
   "outputs": [],
   "source": [
    "def gray2rgb(gray,color_dict):\n",
    "    \n",
    "    # 定義新涵式\n",
    "    rgb_image = np.zeros(shape=(*gray.shape, 3))\n",
    "    # 上色\n",
    "    for i in range(rgb_image.shape[0]):\n",
    "        for j in range(rgb_image.shape[1]):\n",
    "            #不同的灰度值上不同的顏色\n",
    "            if gray[i, j] < 127:\n",
    "                rgb_image[i, j, :] = color_dict[\"black\"]\n",
    "            else:\n",
    "                rgb_image[i, j, :] = color_dict[\"red\"]\n",
    "\n",
    "    return rgb_image.astype(np.uint8)"
   ]
  },
  {
   "cell_type": "code",
   "execution_count": 18,
   "metadata": {},
   "outputs": [],
   "source": [
    "def addImage():\n",
    "    img1 = cv2.imread(\"Photos/result_well.png\")\n",
    "    src = cv2.imread(\"Photos/ROI_image_new.png\")\n",
    "\n",
    "    h, w, _ = img1.shape\n",
    "    \n",
    "    img2 = cv2.resize(src, (w,h))\n",
    "\n",
    "    alpha = 0.5\n",
    "    beta = 1-alpha\n",
    "    gamma = 1\n",
    "    img_add = cv2.addWeighted(img1, alpha, img2, beta, gamma)\n",
    "    \n",
    "    cv2.imwrite(\"Photos/merge_finish_test.png\",img_add)\n",
    "    print(\"finish\")\n",
    "    cv2.imshow('img_add',img_add)\n",
    "    cv2.waitKey()\n",
    "    \n",
    "    cv2.destroyAllWindows()"
   ]
  },
  {
   "cell_type": "code",
   "execution_count": 19,
   "metadata": {},
   "outputs": [
    {
     "name": "stdout",
     "output_type": "stream",
     "text": [
      "finish\n"
     ]
    }
   ],
   "source": [
    "img_result_well = cv2.imread(\"Photos/result_well.png\",0)\n",
    "img_ROI_image = cv2.imread(\"Photos/ROI_image.png\",0)\n",
    "cv2.imshow('Result',img_result_well)\n",
    "cv2.imshow('ROI',img_ROI_image)\n",
    "ret, th = cv2.threshold(img_ROI_image, 70, 255, cv2.THRESH_BINARY)\n",
    "img_new = gray2rgb(th, color_dict)\n",
    "cv2.imwrite(\"Photos/ROI_image_new.png\",img_new)\n",
    "\n",
    "\n",
    "addImage()"
   ]
  }
 ],
 "metadata": {
  "interpreter": {
   "hash": "fb698bdeab99cfbf9e31cab566d99a06e057f2dec3dcc8097ebabb329e860e16"
  },
  "kernelspec": {
   "display_name": "Python 3.8.8 ('base')",
   "language": "python",
   "name": "python3"
  },
  "language_info": {
   "codemirror_mode": {
    "name": "ipython",
    "version": 3
   },
   "file_extension": ".py",
   "mimetype": "text/x-python",
   "name": "python",
   "nbconvert_exporter": "python",
   "pygments_lexer": "ipython3",
   "version": "3.8.8"
  },
  "orig_nbformat": 4
 },
 "nbformat": 4,
 "nbformat_minor": 2
}
